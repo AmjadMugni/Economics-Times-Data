{
 "cells": [
  {
   "cell_type": "code",
   "execution_count": 1,
   "id": "complimentary-syntax",
   "metadata": {},
   "outputs": [],
   "source": [
    "import pandas as pd\n",
    "import requests\n",
    "from bs4 import BeautifulSoup\n",
    "import datetime\n",
    "import numpy as np"
   ]
  },
  {
   "cell_type": "code",
   "execution_count": 2,
   "id": "liable-jonathan",
   "metadata": {},
   "outputs": [],
   "source": [
    "data = []"
   ]
  },
  {
   "cell_type": "code",
   "execution_count": 3,
   "id": "further-gallery",
   "metadata": {},
   "outputs": [],
   "source": [
    "date = datetime.datetime(2018,1,1)\n",
    "\n",
    "const = 43101\n",
    "\n",
    "for i in range(74) :\n",
    "    \n",
    "    date = date + datetime.timedelta(days=1)\n",
    "    const = const+1\n",
    "    year = date.year\n",
    "    month = date.month\n",
    "    day = date.day\n",
    "    url = \"https://economictimes.indiatimes.com/\"+str(date.year)+\"/\"+str(date.month)+\"/\"+str(date.day)+\"/archivelist/year-\"+str(date.year)+\",month-\"+str(date.month)+\",starttime-\"+str(const)+\".cms\"\n",
    "  \n",
    "    r = requests.get(url) \n",
    "   \n",
    "    soup = BeautifulSoup(r.content, 'html5lib')\n",
    "\n",
    "    links = soup.find_all(\"table\",{'cellpadding' : \"0\"})\n",
    "\n",
    "    soup1 = links[0]\n",
    "    soup2 = links[1]\n",
    "    \n",
    "\n",
    "for a in soup1.find_all('a'):\n",
    "    row = [year, month, day, a.get_text()]\n",
    "    data.append(row)\n",
    "    for a in soup2.find_all('a') :\n",
    "        row = [year, month, day, a.get_text()]\n",
    "        data.append(row)\n",
    "\n",
    "\n",
    "    if (i%100 == 0):\n",
    "        print(f\"---- {i} ----\")\n",
    "\n"
   ]
  },
  {
   "cell_type": "code",
   "execution_count": 4,
   "id": "concrete-burke",
   "metadata": {},
   "outputs": [],
   "source": [
    "data1= np.array(data)"
   ]
  },
  {
   "cell_type": "code",
   "execution_count": 5,
   "id": "italian-distance",
   "metadata": {},
   "outputs": [
    {
     "data": {
      "text/plain": [
       "(837, 4)"
      ]
     },
     "execution_count": 5,
     "metadata": {},
     "output_type": "execute_result"
    }
   ],
   "source": [
    "data1.shape"
   ]
  },
  {
   "cell_type": "code",
   "execution_count": 6,
   "id": "rough-queensland",
   "metadata": {},
   "outputs": [],
   "source": [
    "Edataset = pd.DataFrame(data1)"
   ]
  },
  {
   "cell_type": "code",
   "execution_count": 7,
   "id": "compatible-kuwait",
   "metadata": {},
   "outputs": [],
   "source": [
    "Edataset.columns = ['year','month','day','headlines']"
   ]
  },
  {
   "cell_type": "code",
   "execution_count": 8,
   "id": "friendly-scene",
   "metadata": {},
   "outputs": [
    {
     "data": {
      "text/html": [
       "<div>\n",
       "<style scoped>\n",
       "    .dataframe tbody tr th:only-of-type {\n",
       "        vertical-align: middle;\n",
       "    }\n",
       "\n",
       "    .dataframe tbody tr th {\n",
       "        vertical-align: top;\n",
       "    }\n",
       "\n",
       "    .dataframe thead th {\n",
       "        text-align: right;\n",
       "    }\n",
       "</style>\n",
       "<table border=\"1\" class=\"dataframe\">\n",
       "  <thead>\n",
       "    <tr style=\"text-align: right;\">\n",
       "      <th></th>\n",
       "      <th>year</th>\n",
       "      <th>month</th>\n",
       "      <th>day</th>\n",
       "      <th>headlines</th>\n",
       "    </tr>\n",
       "  </thead>\n",
       "  <tbody>\n",
       "    <tr>\n",
       "      <th>0</th>\n",
       "      <td>2018</td>\n",
       "      <td>3</td>\n",
       "      <td>16</td>\n",
       "      <td>Archives</td>\n",
       "    </tr>\n",
       "    <tr>\n",
       "      <th>1</th>\n",
       "      <td>2018</td>\n",
       "      <td>3</td>\n",
       "      <td>16</td>\n",
       "      <td>7 ministers win Rajya Sabha elections unoppose...</td>\n",
       "    </tr>\n",
       "    <tr>\n",
       "      <th>2</th>\n",
       "      <td>2018</td>\n",
       "      <td>3</td>\n",
       "      <td>16</td>\n",
       "      <td>Chandrababu Naidu likely to withdraw support t...</td>\n",
       "    </tr>\n",
       "    <tr>\n",
       "      <th>3</th>\n",
       "      <td>2018</td>\n",
       "      <td>3</td>\n",
       "      <td>16</td>\n",
       "      <td>Buddhist programme: No Bengal government repre...</td>\n",
       "    </tr>\n",
       "    <tr>\n",
       "      <th>4</th>\n",
       "      <td>2018</td>\n",
       "      <td>3</td>\n",
       "      <td>16</td>\n",
       "      <td>Dalai Lama event: Not Delhi or Dharamsala stad...</td>\n",
       "    </tr>\n",
       "    <tr>\n",
       "      <th>...</th>\n",
       "      <td>...</td>\n",
       "      <td>...</td>\n",
       "      <td>...</td>\n",
       "      <td>...</td>\n",
       "    </tr>\n",
       "    <tr>\n",
       "      <th>832</th>\n",
       "      <td>2018</td>\n",
       "      <td>3</td>\n",
       "      <td>16</td>\n",
       "      <td>Yeddyurappa's much-hyped \"Breaking News\" ends ...</td>\n",
       "    </tr>\n",
       "    <tr>\n",
       "      <th>833</th>\n",
       "      <td>2018</td>\n",
       "      <td>3</td>\n",
       "      <td>16</td>\n",
       "      <td>India-Pakistan sparring rings a new bell</td>\n",
       "    </tr>\n",
       "    <tr>\n",
       "      <th>834</th>\n",
       "      <td>2018</td>\n",
       "      <td>3</td>\n",
       "      <td>16</td>\n",
       "      <td>Aviation Ministry looks at chopper services in...</td>\n",
       "    </tr>\n",
       "    <tr>\n",
       "      <th>835</th>\n",
       "      <td>2018</td>\n",
       "      <td>3</td>\n",
       "      <td>16</td>\n",
       "      <td>FIR likely against UP builders for giving poss...</td>\n",
       "    </tr>\n",
       "    <tr>\n",
       "      <th>836</th>\n",
       "      <td>2018</td>\n",
       "      <td>3</td>\n",
       "      <td>16</td>\n",
       "      <td>Apart from Taj, other monuments in Agra may so...</td>\n",
       "    </tr>\n",
       "  </tbody>\n",
       "</table>\n",
       "<p>837 rows × 4 columns</p>\n",
       "</div>"
      ],
      "text/plain": [
       "     year month day                                          headlines\n",
       "0    2018     3  16                                           Archives\n",
       "1    2018     3  16  7 ministers win Rajya Sabha elections unoppose...\n",
       "2    2018     3  16  Chandrababu Naidu likely to withdraw support t...\n",
       "3    2018     3  16  Buddhist programme: No Bengal government repre...\n",
       "4    2018     3  16  Dalai Lama event: Not Delhi or Dharamsala stad...\n",
       "..    ...   ...  ..                                                ...\n",
       "832  2018     3  16  Yeddyurappa's much-hyped \"Breaking News\" ends ...\n",
       "833  2018     3  16           India-Pakistan sparring rings a new bell\n",
       "834  2018     3  16  Aviation Ministry looks at chopper services in...\n",
       "835  2018     3  16  FIR likely against UP builders for giving poss...\n",
       "836  2018     3  16  Apart from Taj, other monuments in Agra may so...\n",
       "\n",
       "[837 rows x 4 columns]"
      ]
     },
     "execution_count": 8,
     "metadata": {},
     "output_type": "execute_result"
    }
   ],
   "source": [
    "Edataset"
   ]
  },
  {
   "cell_type": "code",
   "execution_count": 9,
   "id": "explicit-miracle",
   "metadata": {},
   "outputs": [],
   "source": [
    "Edataset.to_csv(r\"C:\\Users\\Sumain\\Desktop\\gitu\\Edataset2018.xml\",index=True)"
   ]
  },
  {
   "cell_type": "code",
   "execution_count": null,
   "id": "second-retail",
   "metadata": {},
   "outputs": [],
   "source": []
  },
  {
   "cell_type": "code",
   "execution_count": null,
   "id": "compatible-affiliation",
   "metadata": {},
   "outputs": [],
   "source": []
  },
  {
   "cell_type": "code",
   "execution_count": null,
   "id": "bibliographic-night",
   "metadata": {},
   "outputs": [],
   "source": []
  },
  {
   "cell_type": "code",
   "execution_count": null,
   "id": "equipped-gallery",
   "metadata": {},
   "outputs": [],
   "source": []
  },
  {
   "cell_type": "code",
   "execution_count": null,
   "id": "covered-pakistan",
   "metadata": {},
   "outputs": [],
   "source": []
  }
 ],
 "metadata": {
  "kernelspec": {
   "display_name": "Python 3",
   "language": "python",
   "name": "python3"
  },
  "language_info": {
   "codemirror_mode": {
    "name": "ipython",
    "version": 3
   },
   "file_extension": ".py",
   "mimetype": "text/x-python",
   "name": "python",
   "nbconvert_exporter": "python",
   "pygments_lexer": "ipython3",
   "version": "3.9.5"
  }
 },
 "nbformat": 4,
 "nbformat_minor": 5
}
