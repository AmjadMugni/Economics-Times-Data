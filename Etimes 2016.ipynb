{
 "cells": [
  {
   "cell_type": "code",
   "execution_count": 1,
   "id": "sought-arnold",
   "metadata": {},
   "outputs": [],
   "source": [
    "import pandas as pd\n",
    "import requests\n",
    "from bs4 import BeautifulSoup\n",
    "import datetime\n",
    "import numpy as np"
   ]
  },
  {
   "cell_type": "code",
   "execution_count": 2,
   "id": "adequate-pharmaceutical",
   "metadata": {},
   "outputs": [],
   "source": [
    "data = []"
   ]
  },
  {
   "cell_type": "code",
   "execution_count": 3,
   "id": "homeless-workplace",
   "metadata": {},
   "outputs": [],
   "source": [
    "date = datetime.datetime(2016,1,1)\n",
    "\n",
    "const = 42370\n",
    "\n",
    "for i in range(74) :\n",
    "    \n",
    "    date = date + datetime.timedelta(days=1)\n",
    "    const = const+1\n",
    "    year = date.year\n",
    "    month = date.month\n",
    "    day = date.day\n",
    "    url = \"https://economictimes.indiatimes.com/\"+str(date.year)+\"/\"+str(date.month)+\"/\"+str(date.day)+\"/archivelist/year-\"+str(date.year)+\",month-\"+str(date.month)+\",starttime-\"+str(const)+\".cms\"\n",
    "  \n",
    "    r = requests.get(url) \n",
    "   \n",
    "    soup = BeautifulSoup(r.content, 'html5lib')\n",
    "\n",
    "    links = soup.find_all(\"table\",{'cellpadding' : \"0\"})\n",
    "\n",
    "    soup1 = links[0]\n",
    "    soup2 = links[1]\n",
    "    \n",
    "\n",
    "for a in soup1.find_all('a'):\n",
    "    row = [year, month, day, a.get_text()]\n",
    "    data.append(row)\n",
    "    for a in soup2.find_all('a') :\n",
    "        row = [year, month, day, a.get_text()]\n",
    "        data.append(row)\n",
    "\n",
    "\n",
    "    if (i%100 == 0):\n",
    "        print(f\"---- {i} ----\")\n",
    "\n"
   ]
  },
  {
   "cell_type": "code",
   "execution_count": 4,
   "id": "offshore-authority",
   "metadata": {},
   "outputs": [],
   "source": [
    "data1= np.array(data)"
   ]
  },
  {
   "cell_type": "code",
   "execution_count": 5,
   "id": "focused-finnish",
   "metadata": {},
   "outputs": [
    {
     "data": {
      "text/plain": [
       "(1329, 4)"
      ]
     },
     "execution_count": 5,
     "metadata": {},
     "output_type": "execute_result"
    }
   ],
   "source": [
    "data1.shape"
   ]
  },
  {
   "cell_type": "code",
   "execution_count": 6,
   "id": "golden-speaking",
   "metadata": {},
   "outputs": [],
   "source": [
    "Edataset = pd.DataFrame(data1)"
   ]
  },
  {
   "cell_type": "code",
   "execution_count": 7,
   "id": "fiscal-portal",
   "metadata": {},
   "outputs": [],
   "source": [
    "Edataset.columns = ['year','month','day','headlines']"
   ]
  },
  {
   "cell_type": "code",
   "execution_count": 8,
   "id": "pacific-diagnosis",
   "metadata": {},
   "outputs": [
    {
     "data": {
      "text/html": [
       "<div>\n",
       "<style scoped>\n",
       "    .dataframe tbody tr th:only-of-type {\n",
       "        vertical-align: middle;\n",
       "    }\n",
       "\n",
       "    .dataframe tbody tr th {\n",
       "        vertical-align: top;\n",
       "    }\n",
       "\n",
       "    .dataframe thead th {\n",
       "        text-align: right;\n",
       "    }\n",
       "</style>\n",
       "<table border=\"1\" class=\"dataframe\">\n",
       "  <thead>\n",
       "    <tr style=\"text-align: right;\">\n",
       "      <th></th>\n",
       "      <th>year</th>\n",
       "      <th>month</th>\n",
       "      <th>day</th>\n",
       "      <th>headlines</th>\n",
       "    </tr>\n",
       "  </thead>\n",
       "  <tbody>\n",
       "    <tr>\n",
       "      <th>0</th>\n",
       "      <td>2016</td>\n",
       "      <td>3</td>\n",
       "      <td>15</td>\n",
       "      <td>Archives</td>\n",
       "    </tr>\n",
       "    <tr>\n",
       "      <th>1</th>\n",
       "      <td>2016</td>\n",
       "      <td>3</td>\n",
       "      <td>15</td>\n",
       "      <td>Turmeric may rise to Rs 110 a kg, say analysts</td>\n",
       "    </tr>\n",
       "    <tr>\n",
       "      <th>2</th>\n",
       "      <td>2016</td>\n",
       "      <td>3</td>\n",
       "      <td>15</td>\n",
       "      <td>Valuation of exchange relies on its regulatory...</td>\n",
       "    </tr>\n",
       "    <tr>\n",
       "      <th>3</th>\n",
       "      <td>2016</td>\n",
       "      <td>3</td>\n",
       "      <td>15</td>\n",
       "      <td>US Federal Reserve should perhaps maintain sti...</td>\n",
       "    </tr>\n",
       "    <tr>\n",
       "      <th>4</th>\n",
       "      <td>2016</td>\n",
       "      <td>3</td>\n",
       "      <td>15</td>\n",
       "      <td>Barack Obama calls for mobilising world to mee...</td>\n",
       "    </tr>\n",
       "    <tr>\n",
       "      <th>...</th>\n",
       "      <td>...</td>\n",
       "      <td>...</td>\n",
       "      <td>...</td>\n",
       "      <td>...</td>\n",
       "    </tr>\n",
       "    <tr>\n",
       "      <th>1324</th>\n",
       "      <td>2016</td>\n",
       "      <td>3</td>\n",
       "      <td>15</td>\n",
       "      <td>Narendra Modi keeping mum over presence of Chi...</td>\n",
       "    </tr>\n",
       "    <tr>\n",
       "      <th>1325</th>\n",
       "      <td>2016</td>\n",
       "      <td>3</td>\n",
       "      <td>15</td>\n",
       "      <td>Rajya Sabha MP Palvai Govardhan Reddy urges PM...</td>\n",
       "    </tr>\n",
       "    <tr>\n",
       "      <th>1326</th>\n",
       "      <td>2016</td>\n",
       "      <td>3</td>\n",
       "      <td>15</td>\n",
       "      <td>'HRD Ministry agrees to making ITI course equi...</td>\n",
       "    </tr>\n",
       "    <tr>\n",
       "      <th>1327</th>\n",
       "      <td>2016</td>\n",
       "      <td>3</td>\n",
       "      <td>15</td>\n",
       "      <td>Nasscom to set up warehouse in Vizag under sta...</td>\n",
       "    </tr>\n",
       "    <tr>\n",
       "      <th>1328</th>\n",
       "      <td>2016</td>\n",
       "      <td>3</td>\n",
       "      <td>15</td>\n",
       "      <td>BJP the most 'anti-intellectual' party: Ramcha...</td>\n",
       "    </tr>\n",
       "  </tbody>\n",
       "</table>\n",
       "<p>1329 rows × 4 columns</p>\n",
       "</div>"
      ],
      "text/plain": [
       "      year month day                                          headlines\n",
       "0     2016     3  15                                           Archives\n",
       "1     2016     3  15     Turmeric may rise to Rs 110 a kg, say analysts\n",
       "2     2016     3  15  Valuation of exchange relies on its regulatory...\n",
       "3     2016     3  15  US Federal Reserve should perhaps maintain sti...\n",
       "4     2016     3  15  Barack Obama calls for mobilising world to mee...\n",
       "...    ...   ...  ..                                                ...\n",
       "1324  2016     3  15  Narendra Modi keeping mum over presence of Chi...\n",
       "1325  2016     3  15  Rajya Sabha MP Palvai Govardhan Reddy urges PM...\n",
       "1326  2016     3  15  'HRD Ministry agrees to making ITI course equi...\n",
       "1327  2016     3  15  Nasscom to set up warehouse in Vizag under sta...\n",
       "1328  2016     3  15  BJP the most 'anti-intellectual' party: Ramcha...\n",
       "\n",
       "[1329 rows x 4 columns]"
      ]
     },
     "execution_count": 8,
     "metadata": {},
     "output_type": "execute_result"
    }
   ],
   "source": [
    "Edataset"
   ]
  },
  {
   "cell_type": "code",
   "execution_count": 9,
   "id": "frozen-horse",
   "metadata": {},
   "outputs": [],
   "source": [
    "Edataset.to_csv(r\"C:\\Users\\Sumain\\Desktop\\gitu\\Edataset2016.xml\",index=True)"
   ]
  },
  {
   "cell_type": "code",
   "execution_count": null,
   "id": "fitting-stationery",
   "metadata": {},
   "outputs": [],
   "source": []
  },
  {
   "cell_type": "code",
   "execution_count": null,
   "id": "occupational-benefit",
   "metadata": {},
   "outputs": [],
   "source": []
  },
  {
   "cell_type": "code",
   "execution_count": null,
   "id": "tested-award",
   "metadata": {},
   "outputs": [],
   "source": []
  },
  {
   "cell_type": "code",
   "execution_count": null,
   "id": "municipal-wrong",
   "metadata": {},
   "outputs": [],
   "source": []
  }
 ],
 "metadata": {
  "kernelspec": {
   "display_name": "Python 3",
   "language": "python",
   "name": "python3"
  },
  "language_info": {
   "codemirror_mode": {
    "name": "ipython",
    "version": 3
   },
   "file_extension": ".py",
   "mimetype": "text/x-python",
   "name": "python",
   "nbconvert_exporter": "python",
   "pygments_lexer": "ipython3",
   "version": "3.9.5"
  }
 },
 "nbformat": 4,
 "nbformat_minor": 5
}
