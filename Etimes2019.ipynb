{
 "cells": [
  {
   "cell_type": "code",
   "execution_count": 1,
   "id": "cubic-radical",
   "metadata": {},
   "outputs": [],
   "source": [
    "import pandas as pd\n",
    "import requests\n",
    "from bs4 import BeautifulSoup\n",
    "import datetime\n",
    "import numpy as np"
   ]
  },
  {
   "cell_type": "code",
   "execution_count": 2,
   "id": "ethical-frank",
   "metadata": {},
   "outputs": [],
   "source": [
    "data = []"
   ]
  },
  {
   "cell_type": "code",
   "execution_count": 3,
   "id": "experimental-wales",
   "metadata": {},
   "outputs": [],
   "source": [
    "date = datetime.datetime(2019,1,1)\n",
    "\n",
    "const = 43466\n",
    "\n",
    "for i in range(74) :\n",
    "    \n",
    "    date = date + datetime.timedelta(days=1)\n",
    "    const = const+1\n",
    "    year = date.year\n",
    "    month = date.month\n",
    "    day = date.day\n",
    "    url = \"https://economictimes.indiatimes.com/\"+str(date.year)+\"/\"+str(date.month)+\"/\"+str(date.day)+\"/archivelist/year-\"+str(date.year)+\",month-\"+str(date.month)+\",starttime-\"+str(const)+\".cms\"\n",
    "  \n",
    "    r = requests.get(url) \n",
    "   \n",
    "    soup = BeautifulSoup(r.content, 'html5lib')\n",
    "\n",
    "    links = soup.find_all(\"table\",{'cellpadding' : \"0\"})\n",
    "\n",
    "    soup1 = links[0]\n",
    "    soup2 = links[1]\n",
    "    \n",
    "\n",
    "for a in soup1.find_all('a'):\n",
    "    row = [year, month, day, a.get_text()]\n",
    "    data.append(row)\n",
    "    for a in soup2.find_all('a') :\n",
    "        row = [year, month, day, a.get_text()]\n",
    "        data.append(row)\n",
    "\n",
    "\n",
    "    if (i%100 == 0):\n",
    "        print(f\"---- {i} ----\")\n",
    "\n"
   ]
  },
  {
   "cell_type": "code",
   "execution_count": 4,
   "id": "recreational-california",
   "metadata": {},
   "outputs": [],
   "source": [
    "data1= np.array(data)"
   ]
  },
  {
   "cell_type": "code",
   "execution_count": 5,
   "id": "tight-blackberry",
   "metadata": {},
   "outputs": [
    {
     "data": {
      "text/plain": [
       "(423, 4)"
      ]
     },
     "execution_count": 5,
     "metadata": {},
     "output_type": "execute_result"
    }
   ],
   "source": [
    "data1.shape"
   ]
  },
  {
   "cell_type": "code",
   "execution_count": 6,
   "id": "musical-symbol",
   "metadata": {},
   "outputs": [],
   "source": [
    "Edataset = pd.DataFrame(data1)"
   ]
  },
  {
   "cell_type": "code",
   "execution_count": 7,
   "id": "impressed-colombia",
   "metadata": {},
   "outputs": [],
   "source": [
    "Edataset.columns = ['year','month','day','headlines']"
   ]
  },
  {
   "cell_type": "code",
   "execution_count": 8,
   "id": "failing-special",
   "metadata": {},
   "outputs": [
    {
     "data": {
      "text/html": [
       "<div>\n",
       "<style scoped>\n",
       "    .dataframe tbody tr th:only-of-type {\n",
       "        vertical-align: middle;\n",
       "    }\n",
       "\n",
       "    .dataframe tbody tr th {\n",
       "        vertical-align: top;\n",
       "    }\n",
       "\n",
       "    .dataframe thead th {\n",
       "        text-align: right;\n",
       "    }\n",
       "</style>\n",
       "<table border=\"1\" class=\"dataframe\">\n",
       "  <thead>\n",
       "    <tr style=\"text-align: right;\">\n",
       "      <th></th>\n",
       "      <th>year</th>\n",
       "      <th>month</th>\n",
       "      <th>day</th>\n",
       "      <th>headlines</th>\n",
       "    </tr>\n",
       "  </thead>\n",
       "  <tbody>\n",
       "    <tr>\n",
       "      <th>0</th>\n",
       "      <td>2019</td>\n",
       "      <td>3</td>\n",
       "      <td>16</td>\n",
       "      <td>Archives</td>\n",
       "    </tr>\n",
       "    <tr>\n",
       "      <th>1</th>\n",
       "      <td>2019</td>\n",
       "      <td>3</td>\n",
       "      <td>16</td>\n",
       "      <td>'Ganga pollution rise claim unscientific'</td>\n",
       "    </tr>\n",
       "    <tr>\n",
       "      <th>2</th>\n",
       "      <td>2019</td>\n",
       "      <td>3</td>\n",
       "      <td>16</td>\n",
       "      <td>DoT refuses to consider SC verdict in deciding...</td>\n",
       "    </tr>\n",
       "    <tr>\n",
       "      <th>3</th>\n",
       "      <td>2019</td>\n",
       "      <td>3</td>\n",
       "      <td>16</td>\n",
       "      <td>Offline retailers use technology to attract yo...</td>\n",
       "    </tr>\n",
       "    <tr>\n",
       "      <th>4</th>\n",
       "      <td>2019</td>\n",
       "      <td>3</td>\n",
       "      <td>16</td>\n",
       "      <td>Offline retailers use technology to attract yo...</td>\n",
       "    </tr>\n",
       "    <tr>\n",
       "      <th>...</th>\n",
       "      <td>...</td>\n",
       "      <td>...</td>\n",
       "      <td>...</td>\n",
       "      <td>...</td>\n",
       "    </tr>\n",
       "    <tr>\n",
       "      <th>418</th>\n",
       "      <td>2019</td>\n",
       "      <td>3</td>\n",
       "      <td>16</td>\n",
       "      <td>How Naveen Patnaik and Mamata Banerjee are dec...</td>\n",
       "    </tr>\n",
       "    <tr>\n",
       "      <th>419</th>\n",
       "      <td>2019</td>\n",
       "      <td>3</td>\n",
       "      <td>16</td>\n",
       "      <td>How Radhika Piramal is steering VIP Industries...</td>\n",
       "    </tr>\n",
       "    <tr>\n",
       "      <th>420</th>\n",
       "      <td>2019</td>\n",
       "      <td>3</td>\n",
       "      <td>16</td>\n",
       "      <td>K7 Computing appoints K Purushothaman as new c...</td>\n",
       "    </tr>\n",
       "    <tr>\n",
       "      <th>421</th>\n",
       "      <td>2019</td>\n",
       "      <td>3</td>\n",
       "      <td>16</td>\n",
       "      <td>Indian roads: Fatalities in mishaps high despi...</td>\n",
       "    </tr>\n",
       "    <tr>\n",
       "      <th>422</th>\n",
       "      <td>2019</td>\n",
       "      <td>3</td>\n",
       "      <td>16</td>\n",
       "      <td>Goa BJP MLAs, core committee meet, discuss Par...</td>\n",
       "    </tr>\n",
       "  </tbody>\n",
       "</table>\n",
       "<p>423 rows × 4 columns</p>\n",
       "</div>"
      ],
      "text/plain": [
       "     year month day                                          headlines\n",
       "0    2019     3  16                                           Archives\n",
       "1    2019     3  16          'Ganga pollution rise claim unscientific'\n",
       "2    2019     3  16  DoT refuses to consider SC verdict in deciding...\n",
       "3    2019     3  16  Offline retailers use technology to attract yo...\n",
       "4    2019     3  16  Offline retailers use technology to attract yo...\n",
       "..    ...   ...  ..                                                ...\n",
       "418  2019     3  16  How Naveen Patnaik and Mamata Banerjee are dec...\n",
       "419  2019     3  16  How Radhika Piramal is steering VIP Industries...\n",
       "420  2019     3  16  K7 Computing appoints K Purushothaman as new c...\n",
       "421  2019     3  16  Indian roads: Fatalities in mishaps high despi...\n",
       "422  2019     3  16  Goa BJP MLAs, core committee meet, discuss Par...\n",
       "\n",
       "[423 rows x 4 columns]"
      ]
     },
     "execution_count": 8,
     "metadata": {},
     "output_type": "execute_result"
    }
   ],
   "source": [
    "Edataset"
   ]
  },
  {
   "cell_type": "code",
   "execution_count": 9,
   "id": "included-analysis",
   "metadata": {},
   "outputs": [],
   "source": [
    "Edataset.to_csv(r\"C:\\Users\\Sumain\\Desktop\\gitu\\Edataset2019.xml\",index=True)"
   ]
  },
  {
   "cell_type": "code",
   "execution_count": null,
   "id": "formal-florida",
   "metadata": {},
   "outputs": [],
   "source": []
  },
  {
   "cell_type": "code",
   "execution_count": null,
   "id": "infectious-danger",
   "metadata": {},
   "outputs": [],
   "source": []
  },
  {
   "cell_type": "code",
   "execution_count": null,
   "id": "saved-chinese",
   "metadata": {},
   "outputs": [],
   "source": []
  },
  {
   "cell_type": "code",
   "execution_count": null,
   "id": "unnecessary-settlement",
   "metadata": {},
   "outputs": [],
   "source": []
  },
  {
   "cell_type": "code",
   "execution_count": null,
   "id": "stopped-spotlight",
   "metadata": {},
   "outputs": [],
   "source": []
  },
  {
   "cell_type": "code",
   "execution_count": null,
   "id": "surrounded-decade",
   "metadata": {},
   "outputs": [],
   "source": []
  },
  {
   "cell_type": "code",
   "execution_count": null,
   "id": "patent-excess",
   "metadata": {},
   "outputs": [],
   "source": []
  }
 ],
 "metadata": {
  "kernelspec": {
   "display_name": "Python 3",
   "language": "python",
   "name": "python3"
  },
  "language_info": {
   "codemirror_mode": {
    "name": "ipython",
    "version": 3
   },
   "file_extension": ".py",
   "mimetype": "text/x-python",
   "name": "python",
   "nbconvert_exporter": "python",
   "pygments_lexer": "ipython3",
   "version": "3.9.5"
  }
 },
 "nbformat": 4,
 "nbformat_minor": 5
}
