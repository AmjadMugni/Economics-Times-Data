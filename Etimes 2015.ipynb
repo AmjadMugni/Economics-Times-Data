{
 "cells": [
  {
   "cell_type": "code",
   "execution_count": 1,
   "id": "regional-international",
   "metadata": {},
   "outputs": [],
   "source": [
    "import pandas as pd\n",
    "import requests\n",
    "from bs4 import BeautifulSoup\n",
    "import datetime\n",
    "import numpy as np"
   ]
  },
  {
   "cell_type": "code",
   "execution_count": 2,
   "id": "apparent-webmaster",
   "metadata": {},
   "outputs": [],
   "source": [
    "data = []"
   ]
  },
  {
   "cell_type": "code",
   "execution_count": 26,
   "id": "south-namibia",
   "metadata": {},
   "outputs": [],
   "source": [
    "date = datetime.datetime(2015,1,1)\n",
    "\n",
    "const = 42005\n",
    "\n",
    "for i in range(74) :\n",
    "    \n",
    "    date = date + datetime.timedelta(days=1)\n",
    "    const = const+1\n",
    "    year = date.year\n",
    "    month = date.month\n",
    "    day = date.day\n",
    "    url = \"https://economictimes.indiatimes.com/\"+str(date.year)+\"/\"+str(date.month)+\"/\"+str(date.day)+\"/archivelist/year-\"+str(date.year)+\",month-\"+str(date.month)+\",starttime-\"+str(const)+\".cms\"\n",
    "  \n",
    "    r = requests.get(url) \n",
    "   \n",
    "    soup = BeautifulSoup(r.content, 'html5lib')\n",
    "\n",
    "    links = soup.find_all(\"table\",{'cellpadding' : \"0\"})\n",
    "\n",
    "    soup1 = links[0]\n",
    "    soup2 = links[1]\n",
    "    \n",
    "\n",
    "for a in soup1.find_all('a'):\n",
    "    row = [year, month, day, a.get_text()]\n",
    "    data.append(row)\n",
    "    for a in soup2.find_all('a') :\n",
    "        row = [year, month, day, a.get_text()]\n",
    "        data.append(row)\n",
    "\n",
    "\n",
    "    if (i%100 == 0):\n",
    "        print(f\"---- {i} ----\")\n",
    "\n"
   ]
  },
  {
   "cell_type": "code",
   "execution_count": 27,
   "id": "reflected-drove",
   "metadata": {},
   "outputs": [],
   "source": [
    "data1= np.array(data)"
   ]
  },
  {
   "cell_type": "code",
   "execution_count": 28,
   "id": "awful-intellectual",
   "metadata": {},
   "outputs": [
    {
     "data": {
      "text/plain": [
       "(1806, 4)"
      ]
     },
     "execution_count": 28,
     "metadata": {},
     "output_type": "execute_result"
    }
   ],
   "source": [
    "data1.shape"
   ]
  },
  {
   "cell_type": "code",
   "execution_count": 29,
   "id": "vocal-nepal",
   "metadata": {},
   "outputs": [],
   "source": [
    "Edataset = pd.DataFrame(data1)"
   ]
  },
  {
   "cell_type": "code",
   "execution_count": 30,
   "id": "removable-chocolate",
   "metadata": {},
   "outputs": [],
   "source": [
    "Edataset.columns = ['year','month','day','headlines']"
   ]
  },
  {
   "cell_type": "code",
   "execution_count": 31,
   "id": "following-carter",
   "metadata": {},
   "outputs": [
    {
     "data": {
      "text/html": [
       "<div>\n",
       "<style scoped>\n",
       "    .dataframe tbody tr th:only-of-type {\n",
       "        vertical-align: middle;\n",
       "    }\n",
       "\n",
       "    .dataframe tbody tr th {\n",
       "        vertical-align: top;\n",
       "    }\n",
       "\n",
       "    .dataframe thead th {\n",
       "        text-align: right;\n",
       "    }\n",
       "</style>\n",
       "<table border=\"1\" class=\"dataframe\">\n",
       "  <thead>\n",
       "    <tr style=\"text-align: right;\">\n",
       "      <th></th>\n",
       "      <th>year</th>\n",
       "      <th>month</th>\n",
       "      <th>day</th>\n",
       "      <th>headlines</th>\n",
       "    </tr>\n",
       "  </thead>\n",
       "  <tbody>\n",
       "    <tr>\n",
       "      <th>0</th>\n",
       "      <td>2015</td>\n",
       "      <td>3</td>\n",
       "      <td>16</td>\n",
       "      <td>Archives</td>\n",
       "    </tr>\n",
       "    <tr>\n",
       "      <th>1</th>\n",
       "      <td>2015</td>\n",
       "      <td>3</td>\n",
       "      <td>16</td>\n",
       "      <td>AAP to launch stir against land bill in Uttar ...</td>\n",
       "    </tr>\n",
       "    <tr>\n",
       "      <th>2</th>\n",
       "      <td>2015</td>\n",
       "      <td>3</td>\n",
       "      <td>16</td>\n",
       "      <td>Church under construction razed in Haryana's H...</td>\n",
       "    </tr>\n",
       "    <tr>\n",
       "      <th>3</th>\n",
       "      <td>2015</td>\n",
       "      <td>3</td>\n",
       "      <td>16</td>\n",
       "      <td>India could face a selloff if US federal reser...</td>\n",
       "    </tr>\n",
       "    <tr>\n",
       "      <th>4</th>\n",
       "      <td>2015</td>\n",
       "      <td>3</td>\n",
       "      <td>16</td>\n",
       "      <td>Government holds back awarding 5 coal blocks f...</td>\n",
       "    </tr>\n",
       "    <tr>\n",
       "      <th>...</th>\n",
       "      <td>...</td>\n",
       "      <td>...</td>\n",
       "      <td>...</td>\n",
       "      <td>...</td>\n",
       "    </tr>\n",
       "    <tr>\n",
       "      <th>1801</th>\n",
       "      <td>2015</td>\n",
       "      <td>3</td>\n",
       "      <td>16</td>\n",
       "      <td>T V Somanathan appointed Joint Secretary in PMO</td>\n",
       "    </tr>\n",
       "    <tr>\n",
       "      <th>1802</th>\n",
       "      <td>2015</td>\n",
       "      <td>3</td>\n",
       "      <td>16</td>\n",
       "      <td>Delhi government orders steps to check rise of...</td>\n",
       "    </tr>\n",
       "    <tr>\n",
       "      <th>1803</th>\n",
       "      <td>2015</td>\n",
       "      <td>3</td>\n",
       "      <td>16</td>\n",
       "      <td>Supreme Court to hear plea against transfer of...</td>\n",
       "    </tr>\n",
       "    <tr>\n",
       "      <th>1804</th>\n",
       "      <td>2015</td>\n",
       "      <td>3</td>\n",
       "      <td>16</td>\n",
       "      <td>Ease of doing business talk must move beyond r...</td>\n",
       "    </tr>\n",
       "    <tr>\n",
       "      <th>1805</th>\n",
       "      <td>2015</td>\n",
       "      <td>3</td>\n",
       "      <td>16</td>\n",
       "      <td>Minor fire in Shastri Bhavan</td>\n",
       "    </tr>\n",
       "  </tbody>\n",
       "</table>\n",
       "<p>1806 rows × 4 columns</p>\n",
       "</div>"
      ],
      "text/plain": [
       "      year month day                                          headlines\n",
       "0     2015     3  16                                           Archives\n",
       "1     2015     3  16  AAP to launch stir against land bill in Uttar ...\n",
       "2     2015     3  16  Church under construction razed in Haryana's H...\n",
       "3     2015     3  16  India could face a selloff if US federal reser...\n",
       "4     2015     3  16  Government holds back awarding 5 coal blocks f...\n",
       "...    ...   ...  ..                                                ...\n",
       "1801  2015     3  16    T V Somanathan appointed Joint Secretary in PMO\n",
       "1802  2015     3  16  Delhi government orders steps to check rise of...\n",
       "1803  2015     3  16  Supreme Court to hear plea against transfer of...\n",
       "1804  2015     3  16  Ease of doing business talk must move beyond r...\n",
       "1805  2015     3  16                       Minor fire in Shastri Bhavan\n",
       "\n",
       "[1806 rows x 4 columns]"
      ]
     },
     "execution_count": 31,
     "metadata": {},
     "output_type": "execute_result"
    }
   ],
   "source": [
    "Edataset"
   ]
  },
  {
   "cell_type": "code",
   "execution_count": 35,
   "id": "joint-sense",
   "metadata": {},
   "outputs": [],
   "source": [
    "Edataset.to_csv(r\"C:\\Users\\Sumain\\Desktop\\gitu\\Edataset2016.xml\",index=True)"
   ]
  },
  {
   "cell_type": "code",
   "execution_count": null,
   "id": "native-honduras",
   "metadata": {},
   "outputs": [],
   "source": []
  },
  {
   "cell_type": "code",
   "execution_count": null,
   "id": "israeli-sheet",
   "metadata": {},
   "outputs": [],
   "source": []
  }
 ],
 "metadata": {
  "kernelspec": {
   "display_name": "Python 3",
   "language": "python",
   "name": "python3"
  },
  "language_info": {
   "codemirror_mode": {
    "name": "ipython",
    "version": 3
   },
   "file_extension": ".py",
   "mimetype": "text/x-python",
   "name": "python",
   "nbconvert_exporter": "python",
   "pygments_lexer": "ipython3",
   "version": "3.9.5"
  }
 },
 "nbformat": 4,
 "nbformat_minor": 5
}
